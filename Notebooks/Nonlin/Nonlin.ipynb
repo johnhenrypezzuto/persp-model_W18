{
 "cells": [
  {
   "cell_type": "markdown",
   "metadata": {
    "button": false,
    "deletable": true,
    "new_sheet": false,
    "run_control": {
     "read_only": false
    }
   },
   "source": [
    "# Nonlinear Models (MACS 30100)\n",
    "### by [Richard W. Evans](https://sites.google.com/site/rickecon/), February 2018\n",
    "The code in this Jupyter notebook was written using Python 3.6. It uses data files [`Titanic dataset`](https://raw.githubusercontent.com/BigDataGal/Python-for-Data-Science/master/titanic-train.csv). For the code to run properly, you will either need to have access to the internet or you should have the data file in the same folder as the Jupyter notebook file. Otherwise, you will have to change the respective lines of the code that read in the data to reflect the location of that data.\n",
    "\n",
    "This notebook follows some of the material in James, et al (2013, Ch. 7). We will cover:\n",
    "\n",
    "1. Polynomial regression\n",
    "2. Step functions\n",
    "3. Splines"
   ]
  },
  {
   "cell_type": "markdown",
   "metadata": {
    "button": false,
    "deletable": true,
    "new_sheet": false,
    "run_control": {
     "read_only": false
    }
   },
   "source": [
    "## 1. Polynomial regression\n",
    "In both the [linear regression notebook](https://github.com/UC-MACSS/persp-model_W18/blob/master/Notebooks/LinRegress/LinRegress.ipynb) and in the [logistic regression notebook](https://github.com/UC-MACSS/persp-model_W18/blob/master/Notebooks/Classfcn1/KKNlogitLDA.ipynb), we discussed the method of including squared coefficients and cross products in order to capture nonlinearities and interactions, respectively, in a linear model. A standard univariate linear regression of feature $x_i$ on dependent variable $y_i$ is the following.\n",
    "\n",
    "$$ y_i = \\beta_0 + \\beta_1 x_{i} + u_i $$\n",
    "\n",
    "A polynomial function of degree $d$ is the following.\n",
    "\n",
    "$$ y_i = \\beta_0 + \\beta_1 x_{i} + \\beta_2 x_i^2 + \\beta_3 x_i^3 + ... \\beta_d x_i^d + u_i $$\n",
    "\n",
    "The left panel of Figure 7.1 is James, et al (2013) shows a degree-4 polynomial of `wage` on `age`.\n",
    "\n",
    "$$ wage_i = \\beta_0 + \\beta_1 age_i + \\beta_2 age_i^2 + \\beta_3 age_i^3 + \\beta_4 age_i^4 + u_i $$\n",
    "\n",
    "![Figure7_1.png](attachment:Figure7_1.png)\n",
    "\n",
    "The solid blue line is the predicted value from this regression and the dotted lines are 95-percent confidence intervals on the predicted values.\n",
    "\n",
    "The right panel of Figure 7.1 is a degree-4 polynomial in a logit model predicting the probability that $wage_i>\\$250,000$.\n",
    "\n",
    "**QUESTION**: Why are the confidence intervals so big for old-age predictions?"
   ]
  },
  {
   "cell_type": "code",
   "execution_count": 23,
   "metadata": {
    "button": false,
    "collapsed": true,
    "deletable": true,
    "new_sheet": false,
    "run_control": {
     "read_only": false
    }
   },
   "outputs": [],
   "source": [
    "# Import needed stuff\n",
    "import numpy as np\n",
    "import pandas as pd\n",
    "from pandas import Series, DataFrame\n",
    "import statsmodels.api as sm"
   ]
  },
  {
   "cell_type": "code",
   "execution_count": 24,
   "metadata": {
    "button": false,
    "collapsed": false,
    "deletable": true,
    "new_sheet": false,
    "run_control": {
     "read_only": false
    }
   },
   "outputs": [
    {
     "name": "stdout",
     "output_type": "stream",
     "text": [
      "                  id         year          age      logwage         wage\n",
      "count    3000.000000  3000.000000  3000.000000  3000.000000  3000.000000\n",
      "mean   218883.373000  2005.791000    42.414667     4.653905   111.703608\n",
      "std    145654.072587     2.026167    11.542406     0.351753    41.728595\n",
      "min      7373.000000  2003.000000    18.000000     3.000000    20.085537\n",
      "25%     85622.250000  2004.000000    33.750000     4.447158    85.383940\n",
      "50%    228799.500000  2006.000000    42.000000     4.653213   104.921506\n",
      "75%    374759.500000  2008.000000    51.000000     4.857332   128.680488\n",
      "max    453870.000000  2009.000000    80.000000     5.763128   318.342430\n",
      "                            OLS Regression Results                            \n",
      "==============================================================================\n",
      "Dep. Variable:                   wage   R-squared:                       0.086\n",
      "Model:                            OLS   Adj. R-squared:                  0.085\n",
      "Method:                 Least Squares   F-statistic:                     70.69\n",
      "Date:                Tue, 13 Feb 2018   Prob (F-statistic):           2.77e-57\n",
      "Time:                        23:53:04   Log-Likelihood:                -15315.\n",
      "No. Observations:                3000   AIC:                         3.064e+04\n",
      "Df Residuals:                    2995   BIC:                         3.067e+04\n",
      "Df Model:                           4                                         \n",
      "Covariance Type:            nonrobust                                         \n",
      "==============================================================================\n",
      "                 coef    std err          t      P>|t|      [0.025      0.975]\n",
      "------------------------------------------------------------------------------\n",
      "const       -184.1542     60.040     -3.067      0.002    -301.879     -66.430\n",
      "age           21.2455      5.887      3.609      0.000       9.703      32.788\n",
      "age2          -0.5639      0.206     -2.736      0.006      -0.968      -0.160\n",
      "age3           0.0068      0.003      2.221      0.026       0.001       0.013\n",
      "age4       -3.204e-05   1.64e-05     -1.952      0.051   -6.42e-05    1.45e-07\n",
      "==============================================================================\n",
      "Omnibus:                     1097.594   Durbin-Watson:                   1.960\n",
      "Prob(Omnibus):                  0.000   Jarque-Bera (JB):             4965.521\n",
      "Skew:                           1.722   Prob(JB):                         0.00\n",
      "Kurtosis:                       8.279   Cond. No.                     5.67e+08\n",
      "==============================================================================\n",
      "\n",
      "Warnings:\n",
      "[1] Standard Errors assume that the covariance matrix of the errors is correctly specified.\n",
      "[2] The condition number is large, 5.67e+08. This might indicate that there are\n",
      "strong multicollinearity or other numerical problems.\n"
     ]
    }
   ],
   "source": [
    "# Read in Wage data\n",
    "wage_dta = pd.read_csv('Wage.txt', sep=',')\n",
    "print(wage_dta.describe())\n",
    "wage = wage_dta['wage']\n",
    "age = wage_dta['age']\n",
    "wage_dta['age2'] = wage_dta['age'] ** 2\n",
    "wage_dta['age3'] = wage_dta['age'] ** 3\n",
    "wage_dta['age4'] = wage_dta['age'] ** 4\n",
    "wage_dta['const'] = 1\n",
    "\n",
    "reg1 = sm.OLS(endog=wage_dta['wage'],\n",
    "              exog=wage_dta[['const', 'age', 'age2', 'age3', 'age4']],\n",
    "              missing='drop')\n",
    "reg1_results = reg1.fit()\n",
    "print(reg1_results.summary())"
   ]
  },
  {
   "cell_type": "markdown",
   "metadata": {
    "button": false,
    "deletable": true,
    "new_sheet": false,
    "run_control": {
     "read_only": false
    }
   },
   "source": [
    "## 2. Step Functions\n",
    "The class of polynomial functions from the previous section impose global structure on the function of the data $X$, in that the equation applies equally to all values of $X$. Step functions impose multiple regions of local structure on the values of $X$. A step function divides the support of $X$ into bins with well defined boundaries and mutually exclusive assignment. That is, the step function cannot be a correspondence and must be a one-to-one mapping between $X$ and $y$. More formally, the step function is a set of $K$ constant functions defined over $K$ bins of the entire support of $X$.\n",
    "\n",
    "$$ y_i = \\begin{cases} \\beta_1 \\:\\:\\:\\,\\quad\\text{if}\\quad X_{min}\\leq X_i < X_1 \\\\\n",
    "                       \\beta_2 \\:\\:\\:\\,\\quad\\text{if}\\quad X_1\\leq X_i < X_2 \\\\\n",
    "                       \\vdots \\\\\n",
    "                       \\beta_{K-1} \\quad\\text{if}\\quad X_{K-2}\\leq X_i < X_{K-1} \\\\\n",
    "                       \\beta_K \\:\\:\\:\\,\\quad\\text{if}\\quad X_{K-1}\\leq X_i \\leq X_{max}\n",
    "         \\end{cases} $$\n",
    "\n",
    "We could characterize each of the cases in the above equation as a dummy variable $C_k(X)$, such that:\n",
    "\n",
    "$$ C_k(X) = I\\left(X_{k-1}\\leq X < X_{k}\\right) $$\n",
    "\n",
    "And an observation $X_i$ must be in exactly one of the categories. We can rewrite the step function as a linear regression of dummy variable explanatory variables and in which the coefficients are the constant functions. Also notice that this regression has no constant. This is because each observation will be in one of the categories.\n",
    "\n",
    "$$ y_i = \\beta_1 C_1(X_i) + \\beta_2 C_2(X_i) + ... \\beta_{K-1} C_{K-1} + \\beta_{K} C_{K} + u_i $$\n",
    "\n",
    "The parameters of this model are the coefficients $\\beta_1, \\beta_2, ... \\beta_K$ as well as the and the bin cutoffs for the boundaries of each category bin $X_1, X_2, ... X_{K-1}$."
   ]
  },
  {
   "cell_type": "markdown",
   "metadata": {
    "button": false,
    "deletable": true,
    "new_sheet": false,
    "run_control": {
     "read_only": false
    }
   },
   "source": [
    "The left panel of Figure 7.2 from James, et al (2013) shows a step function estimation of $wage$ on $age$ with three bins whose cutoffs are $Age_1=33$ and $Age_2=65$.\n",
    "\n",
    "![Figure7_2.png](attachment:Figure7_2.png)"
   ]
  },
  {
   "cell_type": "code",
   "execution_count": 49,
   "metadata": {
    "button": false,
    "collapsed": false,
    "deletable": true,
    "new_sheet": false,
    "run_control": {
     "read_only": false
    }
   },
   "outputs": [
    {
     "data": {
      "text/html": [
       "<div>\n",
       "<style>\n",
       "    .dataframe thead tr:only-child th {\n",
       "        text-align: right;\n",
       "    }\n",
       "\n",
       "    .dataframe thead th {\n",
       "        text-align: left;\n",
       "    }\n",
       "\n",
       "    .dataframe tbody tr th {\n",
       "        vertical-align: top;\n",
       "    }\n",
       "</style>\n",
       "<table border=\"1\" class=\"dataframe\">\n",
       "  <thead>\n",
       "    <tr style=\"text-align: right;\">\n",
       "      <th></th>\n",
       "      <th>age_bin1</th>\n",
       "      <th>age_bin2</th>\n",
       "      <th>age_bin3</th>\n",
       "    </tr>\n",
       "  </thead>\n",
       "  <tbody>\n",
       "    <tr>\n",
       "      <th>count</th>\n",
       "      <td>3000.00000</td>\n",
       "      <td>3000.000000</td>\n",
       "      <td>3000.000000</td>\n",
       "    </tr>\n",
       "    <tr>\n",
       "      <th>mean</th>\n",
       "      <td>0.22100</td>\n",
       "      <td>0.755000</td>\n",
       "      <td>0.024000</td>\n",
       "    </tr>\n",
       "    <tr>\n",
       "      <th>std</th>\n",
       "      <td>0.41499</td>\n",
       "      <td>0.430159</td>\n",
       "      <td>0.153075</td>\n",
       "    </tr>\n",
       "    <tr>\n",
       "      <th>min</th>\n",
       "      <td>0.00000</td>\n",
       "      <td>0.000000</td>\n",
       "      <td>0.000000</td>\n",
       "    </tr>\n",
       "    <tr>\n",
       "      <th>25%</th>\n",
       "      <td>0.00000</td>\n",
       "      <td>1.000000</td>\n",
       "      <td>0.000000</td>\n",
       "    </tr>\n",
       "    <tr>\n",
       "      <th>50%</th>\n",
       "      <td>0.00000</td>\n",
       "      <td>1.000000</td>\n",
       "      <td>0.000000</td>\n",
       "    </tr>\n",
       "    <tr>\n",
       "      <th>75%</th>\n",
       "      <td>0.00000</td>\n",
       "      <td>1.000000</td>\n",
       "      <td>0.000000</td>\n",
       "    </tr>\n",
       "    <tr>\n",
       "      <th>max</th>\n",
       "      <td>1.00000</td>\n",
       "      <td>1.000000</td>\n",
       "      <td>1.000000</td>\n",
       "    </tr>\n",
       "  </tbody>\n",
       "</table>\n",
       "</div>"
      ],
      "text/plain": [
       "         age_bin1     age_bin2     age_bin3\n",
       "count  3000.00000  3000.000000  3000.000000\n",
       "mean      0.22100     0.755000     0.024000\n",
       "std       0.41499     0.430159     0.153075\n",
       "min       0.00000     0.000000     0.000000\n",
       "25%       0.00000     1.000000     0.000000\n",
       "50%       0.00000     1.000000     0.000000\n",
       "75%       0.00000     1.000000     0.000000\n",
       "max       1.00000     1.000000     1.000000"
      ]
     },
     "execution_count": 49,
     "metadata": {},
     "output_type": "execute_result"
    }
   ],
   "source": [
    "wage = wage_dta['wage']\n",
    "age = wage_dta['age']\n",
    "age_bin1 = (wage_dta2['age'] < 33).astype(int)\n",
    "age_bin2 = ((age >= 33) & (age < 65)).astype(int)\n",
    "age_bin3 = (age >= 65).astype(int)\n",
    "X_step = pd.DataFrame(dict(age_bin1=age_bin1, age_bin2=age_bin2,\n",
    "                           age_bin3=age_bin3))\n",
    "X_step.describe()"
   ]
  },
  {
   "cell_type": "code",
   "execution_count": 50,
   "metadata": {
    "button": false,
    "collapsed": false,
    "deletable": true,
    "new_sheet": false,
    "run_control": {
     "read_only": false
    }
   },
   "outputs": [
    {
     "name": "stdout",
     "output_type": "stream",
     "text": [
      "                            OLS Regression Results                            \n",
      "==============================================================================\n",
      "Dep. Variable:                   wage   R-squared:                       0.065\n",
      "Model:                            OLS   Adj. R-squared:                  0.064\n",
      "Method:                 Least Squares   F-statistic:                     103.5\n",
      "Date:                Wed, 14 Feb 2018   Prob (F-statistic):           3.49e-44\n",
      "Time:                        00:14:34   Log-Likelihood:                -15350.\n",
      "No. Observations:                3000   AIC:                         3.071e+04\n",
      "Df Residuals:                    2997   BIC:                         3.072e+04\n",
      "Df Model:                           2                                         \n",
      "Covariance Type:            nonrobust                                         \n",
      "==============================================================================\n",
      "                 coef    std err          t      P>|t|      [0.025      0.975]\n",
      "------------------------------------------------------------------------------\n",
      "age_bin1      92.3224      1.568     58.882      0.000      89.248      95.397\n",
      "age_bin2     117.6916      0.848    138.740      0.000     116.028     119.355\n",
      "age_bin3     101.7990      4.758     21.396      0.000      92.470     111.128\n",
      "==============================================================================\n",
      "Omnibus:                     1053.873   Durbin-Watson:                   1.969\n",
      "Prob(Omnibus):                  0.000   Jarque-Bera (JB):             4462.454\n",
      "Skew:                           1.670   Prob(JB):                         0.00\n",
      "Kurtosis:                       7.954   Cond. No.                         5.61\n",
      "==============================================================================\n",
      "\n",
      "Warnings:\n",
      "[1] Standard Errors assume that the covariance matrix of the errors is correctly specified.\n"
     ]
    }
   ],
   "source": [
    "reg2 = sm.OLS(endog=wage, exog=X_step, missing='drop')\n",
    "reg2_results = reg2.fit()\n",
    "print(reg2_results.summary())"
   ]
  },
  {
   "cell_type": "markdown",
   "metadata": {
    "button": false,
    "deletable": true,
    "new_sheet": false,
    "run_control": {
     "read_only": false
    }
   },
   "source": [
    "## 3. Splines\n",
    "In Section 1, we discussed fitting global polynomials to the data, such that the polynomial function applied to all values of $X_i$. However, analogous to what we did with the stepwise functions, we can also fit a series of polynomials to the data over segments of the support of $X$ and make sure that the polynomials connect smoothly at the *knot points*.\n",
    "\n",
    "The term \"spline\" has the meaning of something that goes between or bridges. In functional analysis, a spline is a discrete set of functions that span a domain. Taken together, these subfunctions create a super function, which we call a *spline*. The step function from the previous section is a spline in which each of the sub functions is a constant $\\beta$. We will treat *linear splines* and *cubic splines* in this section. But really any *basis function* as the subfunctions that make up a spline.\n",
    "\n",
    "We start with linear splines, then move to cubic splines. These can be used for fitting data. But another powerful use of splines is for *interpolation*, or the predicting of function values over intervals in which you have no data but which values are interior to the set of points for which you have data. *Extrapolation* is the predicting of function values over intervals for which you have no data by which values are exterior to the set of points for which you have data.\n",
    "\n",
    "Figure 7.3 from James, et al (2013) shows some different types of splines\n",
    "\n",
    "![Figure7_3.png](attachment:Figure7_3.png)\n",
    "\n",
    "* A **piecewise spline** does not require that the function values match up at the endpoints or cutoff values of each bin.\n",
    "* A **continuous piecewise spline** requires that the function values equal each other at the cutoff values of each bin, but it does not require that the first derivatives (the slopes) be the same at the cutoffs.\n",
    "* A **continuous spline** or just **spline** requires both that the function values and the first derivatives be equal at the cutoff values of each bin."
   ]
  },
  {
   "cell_type": "markdown",
   "metadata": {
    "button": false,
    "deletable": true,
    "new_sheet": false,
    "run_control": {
     "read_only": false
    }
   },
   "source": [
    "### 3.1. Linear spline\n",
    "A linear spline is shown in the lower-right panel of Figure 7.3 above. A linear spline is a series of $K$ linear functions that are fit of $K$ bins of the support of regressors, independent variables, or features $X$.\n",
    "\n",
    "$$ y_i = f(X_i|\\beta) = \\begin{cases}\n",
    "           \\beta_{1,0} + \\beta_{1,1}X_i \\quad\\text{if}\\quad X_{min} \\leq X_i < X_1 \\\\\n",
    "           \\beta_{2,0} + \\beta_{2,1}X_i \\quad\\text{if}\\quad X_1 \\leq X_i < X_2 \\\\\n",
    "           \\vdots \\\\\n",
    "           \\beta_{K,0} + \\beta_{K,1}X_i \\quad\\text{if}\\quad X_{K-1} \\leq X_i \\leq X_{max} \\\\\n",
    "         \\end{cases} $$\n",
    "\n",
    "If this is a continuous spline, and you are taking the cutoffs $\\{X_1,X_2,...X_{K-1}\\}$ as given, the estimation problem is the following.\n",
    "\n",
    "$$ \\min_{\\{\\beta_{k,0},\\beta_{k,1}\\}_{k=1}^K} \\sum_{i=1}^N \\left(y_i - f(X_i|\\beta\\right)^2 $$\n",
    "\n",
    "$$ \\text{s.t}\\quad $$\n"
   ]
  },
  {
   "cell_type": "markdown",
   "metadata": {
    "button": false,
    "deletable": true,
    "new_sheet": false,
    "run_control": {
     "read_only": false
    }
   },
   "source": [
    "### 3.2 Cubic spline\n",
    "A cubic spline is a series of $K$ degree-3 polynomials that are fit over $K$ bins, connect at the end points and have a smooth first and"
   ]
  },
  {
   "cell_type": "code",
   "execution_count": 67,
   "metadata": {
    "button": false,
    "collapsed": false,
    "deletable": true,
    "new_sheet": false,
    "run_control": {
     "read_only": false
    }
   },
   "outputs": [
    {
     "name": "stdout",
     "output_type": "stream",
     "text": [
      "(3000,) (3000,)\n",
      "count    3000.000000\n",
      "mean       42.414667\n",
      "std        11.542406\n",
      "min        18.000000\n",
      "25%        33.750000\n",
      "50%        42.000000\n",
      "75%        51.000000\n",
      "max        80.000000\n",
      "Name: age, dtype: float64\n"
     ]
    },
    {
     "data": {
      "image/png": "[encoded data removed]",
      "text/plain": [
       "<matplotlib.figure.Figure at 0x112c37f28>"
      ]
     },
     "metadata": {},
     "output_type": "display_data"
    }
   ],
   "source": [
    "import scipy.interpolate as intpl\n",
    "import matplotlib.pyplot as plt\n",
    "\n",
    "print(wage.values.shape, age.values.shape)\n",
    "print(age.describe())\n",
    "knots = [33.0]\n",
    "spl = intpl.LSQUnivariateSpline(age.values, wage.values, knots, k=3)\n",
    "\n",
    "age_vec = np.linspace(age.values.min(), age.values.max(), 1000)\n",
    "plt.scatter(age, wage)\n",
    "plt.plot(age_vec, spl(age_vec), 'r-')\n",
    "plt.show()"
   ]
  },
  {
   "cell_type": "markdown",
   "metadata": {
    "button": false,
    "deletable": true,
    "new_sheet": false,
    "run_control": {
     "read_only": false
    }
   },
   "source": [
    "## References\n",
    "* James, Gareth, Deaniela Witten, Trevor Hastie, and Robert Tibshirani, [*An Introduction to Statistical Learning with Applications in R*](http://link.springer.com.proxy.uchicago.edu/book/10.1007%2F978-1-4614-7138-7), New York, Springer (2013)."
   ]
  }
 ],
 "metadata": {
  "kernelspec": {
   "display_name": "Python 3",
   "language": "python",
   "name": "python3"
  },
  "language_info": {
   "codemirror_mode": {
    "name": "ipython",
    "version": 3
   },
   "file_extension": ".py",
   "mimetype": "text/x-python",
   "name": "python",
   "nbconvert_exporter": "python",
   "pygments_lexer": "ipython3",
   "version": "3.5.0"
  }
 },
 "nbformat": 4,
 "nbformat_minor": 2
}
