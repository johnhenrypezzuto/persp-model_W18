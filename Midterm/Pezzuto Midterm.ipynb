{
 "cells": [
  {
   "cell_type": "markdown",
   "metadata": {
    "button": false,
    "deletable": true,
    "new_sheet": false,
    "run_control": {
     "read_only": false
    }
   },
   "source": [
    "# Midterm (MACS 30100), February 5, 2018\n",
    "### John-Henry Pezzuto\n",
    "You will have an hour and thirty minutes to take this exam.\n",
    "1. Put your name in the space provided above (without the brackets).\n",
    "2. Download this notebook and accompanying data `LenderDataLong.dta`.\n",
    "3. The class will disconnect their wi-fi and begin taking the exam.\n",
    "4. The exam is open computer, closed internet, open note.\n",
    "5. Once you are done, you will signal to a TA or instructor to come over and monitor while you reconnect to the internet and upload your edited notebook to Canvas.\n",
    "\n",
    "Remember that you must clearly indicate your answers to all questions below. We will give partial credit for partially correct answers. The midterm is worth 20 points (2 problem sets)."
   ]
  },
  {
   "cell_type": "markdown",
   "metadata": {
    "button": false,
    "deletable": true,
    "new_sheet": false,
    "run_control": {
     "read_only": false
    }
   },
   "source": [
    "## The data\n",
    "This two exercises of this midterm and all their respective subparts will use the `LenderData.csv` dataset, which contains observations of characteristics on short-term, high interest rate, lender information. You are not to use this data outside of this class. It is a jittered and randomized version of a dataset used in a published research paper.\n",
    "\n",
    "Each observation contains characteristics of a particular lender location Read it into Python using the `pandas.read_csv()` command. The variables are the following:\n",
    "\n",
    "* `avgrate`: average annualized interest rate of all loans in percentage points (235 = two hundred and thirty five percent)\n",
    "* `numstores`: number of other stores owned by the same owner (measure of size)\n",
    "* `defrate`: default rate on loans from that store during 2010\n",
    "* `pdrad3`: number of payday lenders within a three-mile radius of the store (measure of competition)\n",
    "* `pnrad3`: number of pawn lenders within a three-mile radius of the store (measure of competition)\n",
    "* `totrad3`: total number of other lenders within a three-mile radius of the store (measure of competition)\n",
    "* `unrt_zip`: unemployment rate in the zip code of the store\n",
    "* `medtotinc2010`: median total household income in the zip code of the store\n",
    "* `edbachplus_zip`: average education level in years of schooling of heads of household in the zip code of the store\n",
    "* `pop_zip`: population in zip code of the store\n",
    "* `mdage_zip`: median age (in years) in zip code of the store\n",
    "* `pctblk2_zip`: percent of the population that is black in the zip code of the store in percentage points (2.2=two point two percent)"
   ]
  },
  {
   "cell_type": "code",
   "execution_count": 118,
   "metadata": {
    "button": false,
    "collapsed": false,
    "deletable": true,
    "new_sheet": false,
    "run_control": {
     "read_only": false
    }
   },
   "outputs": [],
   "source": [
    "#packages\n",
    "import numpy as np\n",
    "import scipy.optimize as opt\n",
    "import scipy.stats as sts\n",
    "import matplotlib.pyplot as plt\n",
    "import pandas as pd\n",
    "import pylab as pl\n",
    "import scipy.integrate as intgr\n",
    "import numpy.linalg as lin\n",
    "import statsmodels.api as sm\n",
    "from linearmodels.iv import IV2SLS\n",
    "from pandas import Series, DataFrame\n",
    "\n",
    "\n",
    "#logistic regression packages\n",
    "import sklearn as sk\n",
    "from sklearn import preprocessing\n",
    "from sklearn import datasets, neighbors, linear_model\n",
    "from sklearn.linear_model import LogisticRegression\n",
    "from sklearn.cross_validation import train_test_split\n",
    "from sklearn import metrics \n",
    "from sklearn.metrics import classification_report\n",
    "from sklearn.metrics import confusion_matrix\n",
    "from pylab import rcParams\n",
    "import seaborn as sb\n",
    "\n",
    "\n",
    "\n",
    "plt.style.use(\"ggplot\")\n",
    "%matplotlib inline\n",
    "\n",
    "#data\n",
    "LenderData = pd.read_csv(\"LenderData.csv\")\n",
    "\n",
    "\n"
   ]
  },
  {
   "cell_type": "markdown",
   "metadata": {
    "button": false,
    "deletable": true,
    "new_sheet": false,
    "run_control": {
     "read_only": false
    }
   },
   "source": [
    "## 1. Using the distributions of interest rates and median income (10 points)"
   ]
  },
  {
   "cell_type": "markdown",
   "metadata": {
    "button": false,
    "deletable": true,
    "new_sheet": false,
    "run_control": {
     "read_only": false
    }
   },
   "source": [
    "1A) [2 points] Create a plot of the histogram of high interest rate lenders interest rates `avgrate`. Use 30 bins. Make sure to label your axes and give the figure a title. If you had to group lenders into $N$ categories, how many categories would you choose based on the interest rate data? That is, how many groupings to you see in these data?"
   ]
  },
  {
   "cell_type": "code",
   "execution_count": 120,
   "metadata": {
    "button": false,
    "collapsed": false,
    "deletable": true,
    "new_sheet": false,
    "run_control": {
     "read_only": false
    }
   },
   "outputs": [],
   "source": [
    "#LenderData['medtotinc2010'].head(200)"
   ]
  },
  {
   "cell_type": "code",
   "execution_count": 121,
   "metadata": {
    "button": false,
    "collapsed": false,
    "deletable": true,
    "new_sheet": false,
    "run_control": {
     "read_only": false
    }
   },
   "outputs": [
    {
     "name": "stdout",
     "output_type": "stream",
     "text": [
      "1A) It looks like there are 3 distinct groupings in the data\n"
     ]
    },
    {
     "data": {
      "image/png": "[encoded data removed]",
      "text/plain": [
       "<matplotlib.figure.Figure at 0x11f688f98>"
      ]
     },
     "metadata": {},
     "output_type": "display_data"
    }
   ],
   "source": [
    "plt.hist(LenderData['avgrate'], bins = 30, label = 'Percentage Rates') # real data\n",
    "plt.title(\"Average Annualized Interest Rate of all Loans in Percentage Points\")\n",
    "plt.xlabel(\"Avgerage Annualized Interest Rate\")\n",
    "plt.ylabel(\"Frequency of Interest Rate\")\n",
    "plt.legend(loc = 'upper left')\n",
    "\n",
    "print(\"1A) It looks like there are 3 distinct groupings in the data\")"
   ]
  },
  {
   "cell_type": "markdown",
   "metadata": {
    "button": false,
    "deletable": true,
    "new_sheet": false,
    "run_control": {
     "read_only": false
    }
   },
   "source": [
    "1B) [1 point] Create a plot of the histogram of median total household income `medtotinc2010`. Use 30 bins. Make sure to label your axes and give the figure a title."
   ]
  },
  {
   "cell_type": "code",
   "execution_count": 122,
   "metadata": {
    "button": false,
    "collapsed": false,
    "deletable": true,
    "new_sheet": false,
    "run_control": {
     "read_only": false
    }
   },
   "outputs": [
    {
     "data": {
      "text/plain": [
       "<matplotlib.legend.Legend at 0x11f7c0e10>"
      ]
     },
     "execution_count": 122,
     "metadata": {},
     "output_type": "execute_result"
    },
    {
     "data": {
      "image/png": "[encoded data removed]",
      "text/plain": [
       "<matplotlib.figure.Figure at 0x11f556e80>"
      ]
     },
     "metadata": {},
     "output_type": "display_data"
    }
   ],
   "source": [
    "plt.hist(LenderData['medtotinc2010'], bins = 30, color = 'g', label = 'Median Incomes') # real data\n",
    "plt.title(\"Median Total Household Income in the Zip Code of the Store\")\n",
    "plt.xlabel(\"Median Hosehold Income Rates\")\n",
    "plt.ylabel(\"Frequency of Income\")\n",
    "plt.legend(loc = 'upper left')"
   ]
  },
  {
   "cell_type": "markdown",
   "metadata": {
    "button": false,
    "deletable": true,
    "new_sheet": false,
    "run_control": {
     "read_only": false
    }
   },
   "source": [
    "1C) [5 points] Use maximum likelihood estimation to fit a lognormal distribution $LN(\\mu, \\sigma)$ to the median income data `medtotinc2010`. Report your estimated $\\hat{\\mu}_{mle}$ and $\\hat{\\sigma}_{mle}$ as well as the likelihood function value at the maximum (not the negative log likelihood). Report your estimate of the variance-covariance matrix of your maximum likelihood estimates of $\\hat{\\mu}_{mle}$ and $\\hat{\\sigma}_{mle}$. Report the standard error on the estimate for $\\hat{\\mu}_{mle}$."
   ]
  },
  {
   "cell_type": "code",
   "execution_count": 128,
   "metadata": {
    "button": false,
    "collapsed": false,
    "deletable": true,
    "new_sheet": false,
    "run_control": {
     "read_only": false
    }
   },
   "outputs": [],
   "source": [
    "inc_sim = np.linspace(0.1, 60000, 800)"
   ]
  },
  {
   "cell_type": "code",
   "execution_count": 129,
   "metadata": {
    "button": false,
    "collapsed": false,
    "deletable": true,
    "new_sheet": false,
    "run_control": {
     "read_only": false
    }
   },
   "outputs": [],
   "source": [
    "#initial guesses\n",
    "sig_init = 5000\n",
    "mu_init = 32000\n",
    "params_init = [mu_init,sig_init]\n",
    "\n",
    "#mle args\n",
    "mle_args = (LenderData['medtotinc2010'], 'None') # real data, cutoff\n",
    "\n",
    "#lognormal functions\n",
    "def log_norm_pdf(xvals, mu, sigma, cutoff):## log normal dist w/ truncated\n",
    "    if cutoff == 'None':\n",
    "        prob_notcut = 1.0\n",
    "    else:\n",
    "        prob_notcut = sts.lognorm.cdf(cutoff, s=sigma, loc=mu, scale=np.exp(mu)) # use lognormal CDF function\n",
    "            \n",
    "    log_pdf_vals = (((1/(xvals * sigma * np.sqrt(2 * np.pi))) *\n",
    "                    np.exp( - ((np.log(xvals)) - mu)**2 / (2 * sigma**2))) / \n",
    "                    prob_notcut)\n",
    "    return log_pdf_vals \n",
    "\n",
    "def log_lik_norm(xvals, mu, sigma, cutoff): ## log liklihood for lognormal\n",
    "    pdf_vals = log_norm_pdf(xvals, mu, sigma, cutoff) #this is the line that makes it lognormal \n",
    "    ln_pdf_vals = np.log(pdf_vals) \n",
    "    log_lik_val = ln_pdf_vals.sum() \n",
    "   \n",
    "    return log_lik_val \n",
    "\n",
    "\n",
    "def crit(params, *args): ## criterion function. neg of logliklihood\n",
    "    mu, sigma = params \n",
    "    xvals, cutoff = args\n",
    "    log_lik_val = log_lik_norm(xvals, mu, sigma, cutoff) \n",
    "    neg_log_lik_val = log_lik_val\n",
    "    \n",
    "    return neg_log_lik_val\n",
    "\n",
    "def log(x,mu,sigma):  ##log norm pdf w/o truncated\n",
    "    temp = -pow((np.log(x)-mu),2)/2/pow(sigma,2)\n",
    "    y = 1/(x*sigma*np.sqrt(2*np.pi)) * np.exp(temp)\n",
    "    return y\n",
    "\n"
   ]
  },
  {
   "cell_type": "code",
   "execution_count": 130,
   "metadata": {
    "button": false,
    "collapsed": false,
    "deletable": true,
    "new_sheet": false,
    "run_control": {
     "read_only": false
    }
   },
   "outputs": [
    {
     "name": "stdout",
     "output_type": "stream",
     "text": [
      "mu_MLE= 32000.1880835  sig_MLE= 4998.82566044 \n",
      "\n",
      "The Value of Liklihood Function is: -6112.23294441742\n",
      "VCV(MLE) =\n",
      " [[ 1. -0.]\n",
      " [-0.  1.]] \n",
      "\n",
      "Standard error for mu estimate =  1.0\n",
      "Standard error for sigma estimate =  1.0\n"
     ]
    },
    {
     "name": "stderr",
     "output_type": "stream",
     "text": [
      "/anaconda/lib/python3.6/site-packages/ipykernel_launcher.py:23: RuntimeWarning: divide by zero encountered in log\n",
      "/anaconda/lib/python3.6/site-packages/scipy/optimize/optimize.py:628: RuntimeWarning: invalid value encountered in double_scalars\n",
      "  grad[k] = (f(*((xk + d,) + args)) - f0) / d[k]\n"
     ]
    },
    {
     "data": {
      "text/plain": [
       "[<matplotlib.lines.Line2D at 0x11fda7ba8>]"
      ]
     },
     "execution_count": 130,
     "metadata": {},
     "output_type": "execute_result"
    },
    {
     "data": {
      "image/png": "[encoded data removed]",
      "text/plain": [
       "<matplotlib.figure.Figure at 0x11f810ac8>"
      ]
     },
     "metadata": {},
     "output_type": "display_data"
    }
   ],
   "source": [
    "# Estimate Parameters\n",
    "\n",
    "# run minimizer to get MLE estimates\n",
    "results1 = opt.minimize(crit, params_init, args=(mle_args), bounds=((None, None),(0.1, None)), method= 'L-BFGS-B')# sigma needs be postive in PDF function.\n",
    "mu_MLE1, sig_MLE1 = results1.x # get the estimated parameters\n",
    "print('mu_MLE=', mu_MLE1, ' sig_MLE=', sig_MLE1, '\\n')\n",
    "\n",
    "\n",
    "#get logliklihood value\n",
    "loglik1 = log_lik_norm(LenderData['medtotinc2010'], mu_1, sig_1, 'None')\n",
    "print(\"The Value of Liklihood Function is:\", loglik1)\n",
    "\n",
    "#VCV\n",
    "OffDiagNeg = np.array([[1, -1], [-1, 1]]) # this has purpose of making some numbers neg //\n",
    "vcv_mle = results1.hess_inv.todense() * OffDiagNeg\n",
    "stderr_mu_mle1 = np.sqrt(vcv_mle[0,0]) # square rooted cause log\n",
    "stderr_sig_mle1 = np.sqrt(vcv_mle[1,1]) #square rooted cause log\n",
    "print('VCV(MLE) =\\n', vcv_mle, '\\n')\n",
    "print('Standard error for mu estimate = ', stderr_mu_mle1)\n",
    "print('Standard error for sigma estimate = ', stderr_sig_mle1)\n",
    "\n",
    "#Plot Line\n",
    "plt.plot(inc_sim, log_norm_pdf(inc_sim, mu_MLE1, sig_MLE1, 'None'), linewidth=2, color='k', label='2: $\\mu$=mu_MLE1,$\\sigma$=sig_MLE1') # plot PDF with parameters estimated by MLE"
   ]
  },
  {
   "cell_type": "markdown",
   "metadata": {
    "button": false,
    "deletable": true,
    "new_sheet": false,
    "run_control": {
     "read_only": false
    }
   },
   "source": [
    "1D) [2 points] Plot the predicted distribution from your maximum likelihood estimates $\\hat{\\mu}_{mle}$ and $\\hat{\\sigma}_{mle}$ against the histogram of the data."
   ]
  },
  {
   "cell_type": "code",
   "execution_count": 131,
   "metadata": {
    "button": false,
    "collapsed": false,
    "deletable": true,
    "new_sheet": false,
    "run_control": {
     "read_only": false
    }
   },
   "outputs": [
    {
     "data": {
      "text/plain": [
       "[<matplotlib.lines.Line2D at 0x11fdfc208>]"
      ]
     },
     "execution_count": 131,
     "metadata": {},
     "output_type": "execute_result"
    },
    {
     "data": {
      "image/png": "[encoded data removed]",
      "text/plain": [
       "<matplotlib.figure.Figure at 0x11fc7a048>"
      ]
     },
     "metadata": {},
     "output_type": "display_data"
    }
   ],
   "source": [
    "plt.hist(LenderData['medtotinc2010'], bins = 30, color = 'g', label = 'Median Incomes') # real data\n",
    "plt.title(\"Median Total Household Income in the Zip Code of the Store\")\n",
    "plt.xlabel(\"Median Hosehold Income Rates\")\n",
    "plt.ylabel(\"Frequency of Income\")\n",
    "plt.legend(loc = 'upper left')\n",
    "\n",
    "\n",
    "#Plot Line\n",
    "plt.plot(inc_sim, log_norm_pdf(inc_sim, mu_MLE1, sig_MLE1, 'None'), linewidth=2, color='k', label='2: $\\mu$=mu_MLE1,$\\sigma$=sig_MLE1') # plot PDF with parameters estimated by MLE"
   ]
  },
  {
   "cell_type": "markdown",
   "metadata": {
    "button": false,
    "deletable": true,
    "new_sheet": false,
    "run_control": {
     "read_only": false
    }
   },
   "source": [
    "^ I couldn't make this graph look correct. However, the logic for *making the graph* is correct !"
   ]
  },
  {
   "cell_type": "markdown",
   "metadata": {
    "button": false,
    "deletable": true,
    "new_sheet": false,
    "run_control": {
     "read_only": false
    }
   },
   "source": [
    "## 2. Determinants of lender interest rates (10 points)"
   ]
  },
  {
   "cell_type": "markdown",
   "metadata": {
    "button": false,
    "deletable": true,
    "new_sheet": false,
    "run_control": {
     "read_only": false
    }
   },
   "source": [
    "2A) [3 points] Assume a simple regression model of four factors that influence the interest rates that a lender charges, namely, number of stores, default rate in the area, unemployment rate in the area, and median household income in the area.\n",
    "\n",
    "$$ avgrate_i = \\beta_0 + \\beta_1 numstores_i + \\beta_2 defrate_i + \\beta_3 unrt_zip_i + \\beta_4 medtotinc2010_i + u_i $$\n",
    "\n",
    "Estimate this model by OLS using the `statsmodels.api` package. Don't forget to include a constant. Print your results summary. Which variables are significant at the 5-percent level? How would you interpret in words the estimated coefficient on `numstores`?"
   ]
  },
  {
   "cell_type": "code",
   "execution_count": 112,
   "metadata": {
    "button": false,
    "collapsed": false,
    "deletable": true,
    "new_sheet": false,
    "run_control": {
     "read_only": false
    }
   },
   "outputs": [
    {
     "name": "stdout",
     "output_type": "stream",
     "text": [
      "                            OLS Regression Results                            \n",
      "==============================================================================\n",
      "Dep. Variable:                avgrate   R-squared:                       0.110\n",
      "Model:                            OLS   Adj. R-squared:                  0.085\n",
      "Method:                 Least Squares   F-statistic:                     4.375\n",
      "Date:                Mon, 05 Feb 2018   Prob (F-statistic):            0.00229\n",
      "Time:                        12:53:28   Log-Likelihood:                -812.28\n",
      "No. Observations:                 147   AIC:                             1635.\n",
      "Df Residuals:                     142   BIC:                             1650.\n",
      "Df Model:                           4                                         \n",
      "Covariance Type:            nonrobust                                         \n",
      "=================================================================================\n",
      "                    coef    std err          t      P>|t|      [0.025      0.975]\n",
      "---------------------------------------------------------------------------------\n",
      "const           453.4117     51.263      8.845      0.000     352.075     554.748\n",
      "numstores        -2.6278      0.672     -3.911      0.000      -3.956      -1.300\n",
      "defrate           0.9717      0.574      1.694      0.093      -0.162       2.106\n",
      "unrt_zip          2.9650      3.187      0.930      0.354      -3.335       9.265\n",
      "medtotinc2010     0.0015      0.001      1.526      0.129      -0.000       0.003\n",
      "==============================================================================\n",
      "Omnibus:                        5.028   Durbin-Watson:                   0.366\n",
      "Prob(Omnibus):                  0.081   Jarque-Bera (JB):                3.262\n",
      "Skew:                          -0.189   Prob(JB):                        0.196\n",
      "Kurtosis:                       2.375   Cond. No.                     3.37e+05\n",
      "==============================================================================\n",
      "\n",
      "Warnings:\n",
      "[1] Standard Errors assume that the covariance matrix of the errors is correctly specified.\n",
      "[2] The condition number is large, 3.37e+05. This might indicate that there are\n",
      "strong multicollinearity or other numerical problems.\n"
     ]
    }
   ],
   "source": [
    "LenderData['const']=1\n",
    "reg1 = sm.OLS(endog=LenderData['avgrate'], exog=LenderData[['const', 'numstores' ,'defrate','unrt_zip','medtotinc2010']], missing='drop')\n",
    "\n",
    "type(reg1)\n",
    "results = reg1.fit()\n",
    "type(results)\n",
    "print(results.summary())"
   ]
  },
  {
   "cell_type": "code",
   "execution_count": 114,
   "metadata": {
    "button": false,
    "collapsed": false,
    "deletable": true,
    "new_sheet": false,
    "run_control": {
     "read_only": false
    }
   },
   "outputs": [
    {
     "name": "stdout",
     "output_type": "stream",
     "text": [
      "2b number of stores is significant at a .05 level. A 1 unit increase in number of stores will result in a -2.678 drop in loan percentage points\n"
     ]
    }
   ],
   "source": [
    "print('2a number of stores is significant at a .05 level. A 1 unit increase in number of stores will result in a -2.678 drop in loan percentage points')"
   ]
  },
  {
   "cell_type": "markdown",
   "metadata": {
    "button": false,
    "deletable": true,
    "new_sheet": false,
    "run_control": {
     "read_only": false
    }
   },
   "source": [
    "2B) [4 points] Now assume a richer model for the determinants of lender interest rates, which includes the following measures of competition and other demographic variables.\n",
    "\n",
    "$$ avgrate_i = \\beta_0 + \\beta_1 numstores_i + \\beta_2 defrate_i + \\beta_3 unrt_zip_i + \\beta_4 medtotinc2010_i + ... $$\n",
    "$$ \\qquad\\qquad\\qquad\\qquad \\beta_5 totrad3_i + \\beta_6 edbachplus\\_zip_i + \\beta_7 pop\\_zip_i + \\beta_8 mdage\\_zip_i + \\beta_9 pctblk2\\_zip_i + u_i $$\n",
    "\n",
    "Estimate this regression by OLS using the `statsmodels.api` package. In controlling for these new varaibles, do any of the originally estimated coefficients from the model in part (2A) become statistically not significant (at the 5 percent level)? Of these new coefficients ($\\beta_5$ through $\\beta_9$), which one(s) are the most statistically significant?"
   ]
  },
  {
   "cell_type": "code",
   "execution_count": 111,
   "metadata": {
    "button": false,
    "collapsed": false,
    "deletable": true,
    "new_sheet": false,
    "run_control": {
     "read_only": false
    },
    "scrolled": true
   },
   "outputs": [
    {
     "data": {
      "text/html": [
       "<table class=\"simpletable\">\n",
       "<caption>OLS Regression Results</caption>\n",
       "<tr>\n",
       "  <th>Dep. Variable:</th>         <td>avgrate</td>     <th>  R-squared:         </th> <td>   0.158</td>\n",
       "</tr>\n",
       "<tr>\n",
       "  <th>Model:</th>                   <td>OLS</td>       <th>  Adj. R-squared:    </th> <td>   0.102</td>\n",
       "</tr>\n",
       "<tr>\n",
       "  <th>Method:</th>             <td>Least Squares</td>  <th>  F-statistic:       </th> <td>   2.846</td>\n",
       "</tr>\n",
       "<tr>\n",
       "  <th>Date:</th>             <td>Mon, 05 Feb 2018</td> <th>  Prob (F-statistic):</th>  <td>0.00419</td>\n",
       "</tr>\n",
       "<tr>\n",
       "  <th>Time:</th>                 <td>12:53:24</td>     <th>  Log-Likelihood:    </th> <td> -808.23</td>\n",
       "</tr>\n",
       "<tr>\n",
       "  <th>No. Observations:</th>      <td>   147</td>      <th>  AIC:               </th> <td>   1636.</td>\n",
       "</tr>\n",
       "<tr>\n",
       "  <th>Df Residuals:</th>          <td>   137</td>      <th>  BIC:               </th> <td>   1666.</td>\n",
       "</tr>\n",
       "<tr>\n",
       "  <th>Df Model:</th>              <td>     9</td>      <th>                     </th>     <td> </td>   \n",
       "</tr>\n",
       "<tr>\n",
       "  <th>Covariance Type:</th>      <td>nonrobust</td>    <th>                     </th>     <td> </td>   \n",
       "</tr>\n",
       "</table>\n",
       "<table class=\"simpletable\">\n",
       "<tr>\n",
       "         <td></td>           <th>coef</th>     <th>std err</th>      <th>t</th>      <th>P>|t|</th>  <th>[0.025</th>    <th>0.975]</th>  \n",
       "</tr>\n",
       "<tr>\n",
       "  <th>const</th>          <td>  613.9741</td> <td>   85.491</td> <td>    7.182</td> <td> 0.000</td> <td>  444.921</td> <td>  783.027</td>\n",
       "</tr>\n",
       "<tr>\n",
       "  <th>numstores</th>      <td>   -2.4303</td> <td>    0.680</td> <td>   -3.574</td> <td> 0.000</td> <td>   -3.775</td> <td>   -1.086</td>\n",
       "</tr>\n",
       "<tr>\n",
       "  <th>defrate</th>        <td>    0.8094</td> <td>    0.585</td> <td>    1.384</td> <td> 0.168</td> <td>   -0.347</td> <td>    1.966</td>\n",
       "</tr>\n",
       "<tr>\n",
       "  <th>unrt_zip</th>       <td>   -0.3055</td> <td>    3.521</td> <td>   -0.087</td> <td> 0.931</td> <td>   -7.268</td> <td>    6.657</td>\n",
       "</tr>\n",
       "<tr>\n",
       "  <th>medtotinc2010</th>  <td>    0.0010</td> <td>    0.001</td> <td>    0.843</td> <td> 0.401</td> <td>   -0.001</td> <td>    0.003</td>\n",
       "</tr>\n",
       "<tr>\n",
       "  <th>totrad3</th>        <td>   -0.6991</td> <td>    0.527</td> <td>   -1.326</td> <td> 0.187</td> <td>   -1.741</td> <td>    0.343</td>\n",
       "</tr>\n",
       "<tr>\n",
       "  <th>edbachplus_zip</th> <td>   -1.3219</td> <td>    0.660</td> <td>   -2.004</td> <td> 0.047</td> <td>   -2.626</td> <td>   -0.018</td>\n",
       "</tr>\n",
       "<tr>\n",
       "  <th>pop_zip</th>        <td>   -0.0006</td> <td>    0.000</td> <td>   -1.539</td> <td> 0.126</td> <td>   -0.001</td> <td>    0.000</td>\n",
       "</tr>\n",
       "<tr>\n",
       "  <th>mdage_zip</th>      <td>   -1.8352</td> <td>    2.234</td> <td>   -0.821</td> <td> 0.413</td> <td>   -6.253</td> <td>    2.583</td>\n",
       "</tr>\n",
       "<tr>\n",
       "  <th>pctblk2_zip</th>    <td>    2.3541</td> <td>    5.981</td> <td>    0.394</td> <td> 0.694</td> <td>   -9.473</td> <td>   14.181</td>\n",
       "</tr>\n",
       "</table>\n",
       "<table class=\"simpletable\">\n",
       "<tr>\n",
       "  <th>Omnibus:</th>       <td> 2.316</td> <th>  Durbin-Watson:     </th> <td>   0.443</td>\n",
       "</tr>\n",
       "<tr>\n",
       "  <th>Prob(Omnibus):</th> <td> 0.314</td> <th>  Jarque-Bera (JB):  </th> <td>   2.014</td>\n",
       "</tr>\n",
       "<tr>\n",
       "  <th>Skew:</th>          <td>-0.174</td> <th>  Prob(JB):          </th> <td>   0.365</td>\n",
       "</tr>\n",
       "<tr>\n",
       "  <th>Kurtosis:</th>      <td> 2.543</td> <th>  Cond. No.          </th> <td>8.56e+05</td>\n",
       "</tr>\n",
       "</table>"
      ],
      "text/plain": [
       "<class 'statsmodels.iolib.summary.Summary'>\n",
       "\"\"\"\n",
       "                            OLS Regression Results                            \n",
       "==============================================================================\n",
       "Dep. Variable:                avgrate   R-squared:                       0.158\n",
       "Model:                            OLS   Adj. R-squared:                  0.102\n",
       "Method:                 Least Squares   F-statistic:                     2.846\n",
       "Date:                Mon, 05 Feb 2018   Prob (F-statistic):            0.00419\n",
       "Time:                        12:53:24   Log-Likelihood:                -808.23\n",
       "No. Observations:                 147   AIC:                             1636.\n",
       "Df Residuals:                     137   BIC:                             1666.\n",
       "Df Model:                           9                                         \n",
       "Covariance Type:            nonrobust                                         \n",
       "==================================================================================\n",
       "                     coef    std err          t      P>|t|      [0.025      0.975]\n",
       "----------------------------------------------------------------------------------\n",
       "const            613.9741     85.491      7.182      0.000     444.921     783.027\n",
       "numstores         -2.4303      0.680     -3.574      0.000      -3.775      -1.086\n",
       "defrate            0.8094      0.585      1.384      0.168      -0.347       1.966\n",
       "unrt_zip          -0.3055      3.521     -0.087      0.931      -7.268       6.657\n",
       "medtotinc2010      0.0010      0.001      0.843      0.401      -0.001       0.003\n",
       "totrad3           -0.6991      0.527     -1.326      0.187      -1.741       0.343\n",
       "edbachplus_zip    -1.3219      0.660     -2.004      0.047      -2.626      -0.018\n",
       "pop_zip           -0.0006      0.000     -1.539      0.126      -0.001       0.000\n",
       "mdage_zip         -1.8352      2.234     -0.821      0.413      -6.253       2.583\n",
       "pctblk2_zip        2.3541      5.981      0.394      0.694      -9.473      14.181\n",
       "==============================================================================\n",
       "Omnibus:                        2.316   Durbin-Watson:                   0.443\n",
       "Prob(Omnibus):                  0.314   Jarque-Bera (JB):                2.014\n",
       "Skew:                          -0.174   Prob(JB):                        0.365\n",
       "Kurtosis:                       2.543   Cond. No.                     8.56e+05\n",
       "==============================================================================\n",
       "\n",
       "Warnings:\n",
       "[1] Standard Errors assume that the covariance matrix of the errors is correctly specified.\n",
       "[2] The condition number is large, 8.56e+05. This might indicate that there are\n",
       "strong multicollinearity or other numerical problems.\n",
       "\"\"\""
      ]
     },
     "execution_count": 111,
     "metadata": {},
     "output_type": "execute_result"
    }
   ],
   "source": [
    "reg2 = sm.OLS(endog=LenderData['avgrate'], exog=LenderData[['const', 'numstores' ,'defrate','unrt_zip','medtotinc2010','totrad3',\n",
    "                                                                        'edbachplus_zip', 'pop_zip', 'mdage_zip', 'pctblk2_zip']], missing='drop')\n",
    "reg2_sm = reg2.fit()\n",
    "reg2_sm.summary()"
   ]
  },
  {
   "cell_type": "code",
   "execution_count": 115,
   "metadata": {
    "button": false,
    "collapsed": false,
    "deletable": true,
    "new_sheet": false,
    "run_control": {
     "read_only": false
    }
   },
   "outputs": [
    {
     "name": "stdout",
     "output_type": "stream",
     "text": [
      "2b) None of the previously significant variables become insignificant. Of the new variables, edbachplus_zip is the most significant\n"
     ]
    }
   ],
   "source": [
    "print('2b) None of the previously significant variables become insignificant. Of the new variables, edbachplus_zip is the most significant')"
   ]
  },
  {
   "cell_type": "markdown",
   "metadata": {
    "button": false,
    "deletable": true,
    "new_sheet": false,
    "run_control": {
     "read_only": false
    }
   },
   "source": [
    "2C) [3 points] Create a new binary variable called `avgrate_high` that equals 1 if `avgrate` > 490, and equals 0 otherwise. Estimate a logistic regression using the `statsmodels.api` package. Let $X\\beta$ be the linear coefficients and variables from the model from part (2B).\n",
    "\n",
    "$$ Pr(avgrate\\_high=1|X\\beta) = \\frac{X\\beta}{1 + X\\beta} $$\n",
    "\n",
    "Report the variables whose coefficients are estimated to be significant at the 5-percent level."
   ]
  },
  {
   "cell_type": "code",
   "execution_count": 100,
   "metadata": {
    "button": false,
    "collapsed": false,
    "deletable": true,
    "new_sheet": false,
    "run_control": {
     "read_only": false
    }
   },
   "outputs": [
    {
     "name": "stdout",
     "output_type": "stream",
     "text": [
      "Optimization terminated successfully.\n",
      "         Current function value: 0.324112\n",
      "         Iterations 7\n"
     ]
    },
    {
     "data": {
      "text/html": [
       "<table class=\"simpletable\">\n",
       "<caption>Logit Regression Results</caption>\n",
       "<tr>\n",
       "  <th>Dep. Variable:</th>   <td>avgrate_high</td>   <th>  No. Observations:  </th>  <td>   147</td>  \n",
       "</tr>\n",
       "<tr>\n",
       "  <th>Model:</th>               <td>Logit</td>      <th>  Df Residuals:      </th>  <td>   138</td>  \n",
       "</tr>\n",
       "<tr>\n",
       "  <th>Method:</th>               <td>MLE</td>       <th>  Df Model:          </th>  <td>     8</td>  \n",
       "</tr>\n",
       "<tr>\n",
       "  <th>Date:</th>          <td>Mon, 05 Feb 2018</td> <th>  Pseudo R-squ.:     </th>  <td>0.4095</td>  \n",
       "</tr>\n",
       "<tr>\n",
       "  <th>Time:</th>              <td>12:46:14</td>     <th>  Log-Likelihood:    </th> <td> -47.644</td> \n",
       "</tr>\n",
       "<tr>\n",
       "  <th>converged:</th>           <td>True</td>       <th>  LL-Null:           </th> <td> -80.685</td> \n",
       "</tr>\n",
       "<tr>\n",
       "  <th> </th>                      <td> </td>        <th>  LLR p-value:       </th> <td>2.950e-11</td>\n",
       "</tr>\n",
       "</table>\n",
       "<table class=\"simpletable\">\n",
       "<tr>\n",
       "         <td></td>           <th>coef</th>     <th>std err</th>      <th>z</th>      <th>P>|z|</th>  <th>[0.025</th>    <th>0.975]</th>  \n",
       "</tr>\n",
       "<tr>\n",
       "  <th>const</th>          <td>    8.2300</td> <td>    4.933</td> <td>    1.668</td> <td> 0.095</td> <td>   -1.439</td> <td>   17.899</td>\n",
       "</tr>\n",
       "<tr>\n",
       "  <th>numstores</th>      <td>   -0.2449</td> <td>    0.045</td> <td>   -5.415</td> <td> 0.000</td> <td>   -0.334</td> <td>   -0.156</td>\n",
       "</tr>\n",
       "<tr>\n",
       "  <th>defrate</th>        <td>    0.0926</td> <td>    0.036</td> <td>    2.605</td> <td> 0.009</td> <td>    0.023</td> <td>    0.162</td>\n",
       "</tr>\n",
       "<tr>\n",
       "  <th>unrt_zip</th>       <td>    0.1181</td> <td>    0.185</td> <td>    0.638</td> <td> 0.523</td> <td>   -0.245</td> <td>    0.481</td>\n",
       "</tr>\n",
       "<tr>\n",
       "  <th>medtotinc2010</th>  <td> 9.697e-05</td> <td> 6.21e-05</td> <td>    1.561</td> <td> 0.118</td> <td>-2.48e-05</td> <td>    0.000</td>\n",
       "</tr>\n",
       "<tr>\n",
       "  <th>edbachplus_zip</th> <td>   -0.0641</td> <td>    0.038</td> <td>   -1.702</td> <td> 0.089</td> <td>   -0.138</td> <td>    0.010</td>\n",
       "</tr>\n",
       "<tr>\n",
       "  <th>pop_zip</th>        <td>-1.274e-05</td> <td> 2.29e-05</td> <td>   -0.555</td> <td> 0.579</td> <td>-5.77e-05</td> <td> 3.22e-05</td>\n",
       "</tr>\n",
       "<tr>\n",
       "  <th>mdage_zip</th>      <td>   -0.1863</td> <td>    0.120</td> <td>   -1.551</td> <td> 0.121</td> <td>   -0.422</td> <td>    0.049</td>\n",
       "</tr>\n",
       "<tr>\n",
       "  <th>pctblk2_zip</th>    <td>    0.0651</td> <td>    0.296</td> <td>    0.220</td> <td> 0.826</td> <td>   -0.514</td> <td>    0.644</td>\n",
       "</tr>\n",
       "</table>"
      ],
      "text/plain": [
       "<class 'statsmodels.iolib.summary.Summary'>\n",
       "\"\"\"\n",
       "                           Logit Regression Results                           \n",
       "==============================================================================\n",
       "Dep. Variable:           avgrate_high   No. Observations:                  147\n",
       "Model:                          Logit   Df Residuals:                      138\n",
       "Method:                           MLE   Df Model:                            8\n",
       "Date:                Mon, 05 Feb 2018   Pseudo R-squ.:                  0.4095\n",
       "Time:                        12:46:14   Log-Likelihood:                -47.644\n",
       "converged:                       True   LL-Null:                       -80.685\n",
       "                                        LLR p-value:                 2.950e-11\n",
       "==================================================================================\n",
       "                     coef    std err          z      P>|z|      [0.025      0.975]\n",
       "----------------------------------------------------------------------------------\n",
       "const              8.2300      4.933      1.668      0.095      -1.439      17.899\n",
       "numstores         -0.2449      0.045     -5.415      0.000      -0.334      -0.156\n",
       "defrate            0.0926      0.036      2.605      0.009       0.023       0.162\n",
       "unrt_zip           0.1181      0.185      0.638      0.523      -0.245       0.481\n",
       "medtotinc2010   9.697e-05   6.21e-05      1.561      0.118   -2.48e-05       0.000\n",
       "edbachplus_zip    -0.0641      0.038     -1.702      0.089      -0.138       0.010\n",
       "pop_zip        -1.274e-05   2.29e-05     -0.555      0.579   -5.77e-05    3.22e-05\n",
       "mdage_zip         -0.1863      0.120     -1.551      0.121      -0.422       0.049\n",
       "pctblk2_zip        0.0651      0.296      0.220      0.826      -0.514       0.644\n",
       "==================================================================================\n",
       "\"\"\""
      ]
     },
     "execution_count": 100,
     "metadata": {},
     "output_type": "execute_result"
    }
   ],
   "source": [
    "LenderData['avgrate_high'] = LenderData['avgrate'].apply(lambda x: 1 if x > 425 else 0) #conditional to add 1 and 0s\n",
    "LogitModel = sm.Logit(endog=LenderData['avgrate_high'], exog=LenderData[['const', 'numstores' ,'defrate','unrt_zip','medtotinc2010',\n",
    "                                                                        'edbachplus_zip', 'pop_zip', 'mdage_zip', 'pctblk2_zip']], missing='drop')\n",
    "\n",
    "LogitReg_sm = LogitModel.fit()\n",
    "LogitReg_sm.summary()"
   ]
  },
  {
   "cell_type": "code",
   "execution_count": 101,
   "metadata": {
    "button": false,
    "collapsed": false,
    "deletable": true,
    "new_sheet": false,
    "run_control": {
     "read_only": false
    }
   },
   "outputs": [
    {
     "name": "stdout",
     "output_type": "stream",
     "text": [
      "2C) numstores, defrate, are significant at the 5% level\n"
     ]
    }
   ],
   "source": [
    "print('2C) numstores, defrate, are significant at the 5% level')"
   ]
  }
 ],
 "metadata": {
  "kernelspec": {
   "display_name": "Python 3",
   "language": "python",
   "name": "python3"
  },
  "language_info": {
   "codemirror_mode": {
    "name": "ipython",
    "version": 3
   },
   "file_extension": ".py",
   "mimetype": "text/x-python",
   "name": "python",
   "nbconvert_exporter": "python",
   "pygments_lexer": "ipython3",
   "version": "3.5.0"
  }
 },
 "nbformat": 4,
 "nbformat_minor": 2
}
